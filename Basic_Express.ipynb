{
 "cells": [
  {
   "cell_type": "markdown",
   "metadata": {
    "toc": true
   },
   "source": [
    "<h1>Table of Contents<span class=\"tocSkip\"></span></h1>\n",
    "<div class=\"toc\"><ul class=\"toc-item\"><li><span><a href=\"#Install-Node-js\" data-toc-modified-id=\"Install-Node-js-1\">Install Node js</a></span></li><li><span><a href=\"#Check-if-npm-and-node-js-are-installed\" data-toc-modified-id=\"Check-if-npm-and-node-js-are-installed-2\">Check if npm and node js are installed</a></span></li><li><span><a href=\"#Create-the-project\" data-toc-modified-id=\"Create-the-project-3\"><strong>Create the project</strong></a></span></li><li><span><a href=\"#Update-npm\" data-toc-modified-id=\"Update-npm-4\">Update npm</a></span></li><li><span><a href=\"#Install-the-dependencies\" data-toc-modified-id=\"Install-the-dependencies-5\"><strong>Install the dependencies</strong></a></span></li><li><span><a href=\"#Funding-Packages\" data-toc-modified-id=\"Funding-Packages-6\"><strong>Funding Packages</strong></a></span></li><li><span><a href=\"#Explicacion-del-codigo\" data-toc-modified-id=\"Explicacion-del-codigo-7\"><strong>Explicacion del codigo</strong></a></span></li><li><span><a href=\"#HTML-Page-for-BMI-Calculation\" data-toc-modified-id=\"HTML-Page-for-BMI-Calculation-8\"><strong>HTML Page for BMI Calculation</strong></a></span></li><li><span><a href=\"#Acces-to-the-app-to-run-it\" data-toc-modified-id=\"Acces-to-the-app-to-run-it-9\"><strong>Acces to the app to run it</strong></a></span></li><li><span><a href=\"#Check-if-the-server-is-running\" data-toc-modified-id=\"Check-if-the-server-is-running-10\">Check if the server is running</a></span></li><li><span><a href=\"#Terminate-the-server\" data-toc-modified-id=\"Terminate-the-server-11\"><strong>Terminate the server</strong></a></span></li><li><span><a href=\"#Iniciar-el-servidor-desde-una-terminal-de-Jupyter\" data-toc-modified-id=\"Iniciar-el-servidor-desde-una-terminal-de-Jupyter-12\"><strong>Iniciar el servidor desde una terminal de Jupyter</strong></a></span></li></ul></div>"
   ]
  },
  {
   "cell_type": "markdown",
   "metadata": {},
   "source": [
    "# **Basic Express**"
   ]
  },
  {
   "cell_type": "markdown",
   "metadata": {},
   "source": [
    "This exercise should show how we can serve multiple static pages and basic interaction via form parameters.\n",
    "\n",
    "**Instructions:**\n",
    "\n",
    "- Create an express server, make sure it is listening on port 3000.\n",
    "- Make the root path to return the index.html file.\n",
    "- Configure the form in the index to call the post method of our app and calculate the BMI of the user.\n",
    "   - Your BMI is (weight/(height)^2)*10,000\n",
    "\n",
    "Remember: To use the body-parser library to get the values from the form. "
   ]
  },
  {
   "cell_type": "markdown",
   "metadata": {},
   "source": [
    "## Install Node js\n",
    "\n",
    "To create a node js project, you need to install node js. \n",
    "\n",
    "You can download node js from [here](https://nodejs.org/en)\n",
    "\n",
    "**Instructions:**\n",
    "\n",
    "- download the node js installer\n",
    "- run the installer\n",
    "- check if node js is installed by running the following command in the terminal\n",
    "\n",
    "```bash\n",
    "node -v\n",
    "```\n",
    "\n"
   ]
  },
  {
   "cell_type": "code",
   "execution_count": null,
   "metadata": {},
   "outputs": [],
   "source": [
    "!conda install -c conda-forge nodejs"
   ]
  },
  {
   "cell_type": "markdown",
   "metadata": {},
   "source": [
    "## Check if npm and node js are installed\n",
    "\n",
    "To check if npm and node js are installed, run the following commands in the terminal\n",
    "\n",
    "```bash\n",
    "node -v\n",
    "npm -v\n",
    "```"
   ]
  },
  {
   "cell_type": "code",
   "execution_count": 2,
   "metadata": {},
   "outputs": [
    {
     "name": "stdout",
     "output_type": "stream",
     "text": [
      "v18.18.2\n",
      "10.2.1\n"
     ]
    }
   ],
   "source": [
    "!node -v\n",
    "!npm -v"
   ]
  },
  {
   "cell_type": "markdown",
   "metadata": {},
   "source": [
    "## **Create the project**\n",
    "\n",
    "Create a new path for new Node.js project and start `npm init` to create a new `package.json` file.\n",
    "\n",
    "```bash\n",
    "npm init\n",
    "```\n"
   ]
  },
  {
   "cell_type": "markdown",
   "metadata": {},
   "source": [
    "## Update npm\n",
    "\n",
    "We need to update npm to the latest version due to a bug in the current version.\n",
    "So, run the following command in the terminal\n",
    "\n",
    "```bash\n",
    "npm install npm@latest -g\n",
    "```\n"
   ]
  },
  {
   "cell_type": "markdown",
   "metadata": {},
   "source": [
    "## **Install the dependencies**\n",
    "\n",
    "For this project we will need to install the following dependencies:\n",
    "\n",
    "- express: will be used to create the server and handle the routes.\n",
    "- body-parser: will be used to parse the body of the request.\n",
    "\n",
    "```bash\n",
    "npm install express body-parser --save\n",
    "```\n"
   ]
  },
  {
   "cell_type": "code",
   "execution_count": 4,
   "metadata": {},
   "outputs": [
    {
     "name": "stdout",
     "output_type": "stream",
     "text": [
      "\n",
      "added 64 packages, and audited 65 packages in 4s\n",
      "\n",
      "11 packages are looking for funding\n",
      "  run `npm fund` for details\n",
      "\n",
      "found 0 vulnerabilities\n"
     ]
    }
   ],
   "source": [
    "!npm install express body-parser"
   ]
  },
  {
   "cell_type": "markdown",
   "metadata": {},
   "source": [
    "## **Funding Packages**\n"
   ]
  },
  {
   "cell_type": "code",
   "execution_count": 5,
   "metadata": {},
   "outputs": [
    {
     "name": "stdout",
     "output_type": "stream",
     "text": [
      "express_server@1.0.0\n",
      "+-- https://github.com/sponsors/ljharb\n",
      "|   `-- qs@6.11.0, side-channel@1.0.4, call-bind@1.0.5, function-bind@1.1.2, gopd@1.0.1, has-property-descriptors@1.0.1, get-intrinsic@1.2.2, has-proto@1.0.1, has-symbols@1.0.3, object-inspect@1.13.1\n",
      "`-- https://github.com/sponsors/feross\n",
      "    `-- safe-buffer@5.2.1\n",
      "\n"
     ]
    }
   ],
   "source": [
    "!npm fund"
   ]
  },
  {
   "cell_type": "markdown",
   "metadata": {},
   "source": [
    "Certainly! This code is written in JavaScript and uses the Express.js framework to create a simple web server that calculates a user's Body Mass Index (BMI) based on data entered in a form. Let's break down the code step by step:\n",
    "\n",
    "1. Import Required Modules:\n",
    "   ```javascript\n",
    "   const express = require('express');\n",
    "   const bodyParser = require('body-parser');\n",
    "   const path = require('path');\n",
    "   ```\n",
    "   - `express`: This line imports the Express.js framework, which is used to create and manage the web server.\n",
    "   - `body-parser`: It's a middleware for Express that helps parse data from incoming HTTP requests, particularly form data.\n",
    "   - `path`: This module provides utilities for working with file and directory paths.\n",
    "\n",
    "2. Create an Express Application:\n",
    "   ```javascript\n",
    "   const app = express();\n",
    "   const port = 3000;\n",
    "   ```\n",
    "   - `app`: This variable is an instance of the Express application, which allows you to configure routes, middleware, and handle HTTP requests.\n",
    "   - `port`: It specifies the port number (3000) on which the server will listen for incoming requests.\n",
    "\n",
    "3. Configure Body Parser:\n",
    "   ```javascript\n",
    "   app.use(bodyParser.urlencoded({ extended: false }));\n",
    "   ```\n",
    "   This line configures the `body-parser` middleware to parse form data sent in HTTP POST requests. It makes the parsed data available in `req.body` for later use.\n",
    "\n",
    "4. Define a Route to Serve the Index HTML Page:\n",
    "   ```javascript\n",
    "   app.get('/', (req, res) => {\n",
    "     res.sendFile(path.join(__dirname, 'index.html'));\n",
    "   });\n",
    "   ```\n",
    "   - `app.get('/')`: This sets up a route for the root URL ('/') of the web application.\n",
    "   - `(req, res)`: These are the request and response objects that are passed to the route handler. `req` represents the incoming request, and `res` is used to send the response.\n",
    "   - `res.sendFile(...)`: This line sends the `index.html` file as a response when someone accesses the root URL.\n",
    "\n",
    "5. Create a Route for Handling Form Submission:\n",
    "   ```javascript\n",
    "   app.post('/calculate-bmi', (req, res) => {\n",
    "     // ...\n",
    "   });\n",
    "   ```\n",
    "   - `app.post('/calculate-bmi')`: This sets up a route for handling HTTP POST requests to the '/calculate-bmi' URL.\n",
    "   - `(req, res)`: These are the request and response objects, as before.\n",
    "\n",
    "6. Handle Form Data and Calculate BMI:\n",
    "   ```javascript\n",
    "   const weight = parseFloat(req.body.weight);\n",
    "   const height = parseFloat(req.body.height);\n",
    "   \n",
    "   if (isNaN(weight) || isNaN(height)) {\n",
    "     res.send('Por favor, ingrese un peso y una altura válidos.');\n",
    "   } else {\n",
    "     const bmi = (weight / (height ** 2)) * 10000;\n",
    "     res.send(`Tu IMC es: ${bmi.toFixed(2)}`);\n",
    "   }\n",
    "   ```\n",
    "   - These lines extract the 'weight' and 'height' values from the form data submitted in the POST request.\n",
    "   - It checks if the weight and height are valid numbers. If not, it responds with an error message.\n",
    "   - If the data is valid, it calculates the BMI using the formula and sends the result as a response.\n",
    "\n",
    "7. Start the Express Server:\n",
    "   ```javascript\n",
    "   app.listen(port, () => {\n",
    "     console.log(`Servidor Express escuchando en el puerto ${port}`);\n",
    "   });\n",
    "   ```\n",
    "   - This code starts the Express server and makes it listen on port 3000. It also logs a message to the console to indicate that the server is running.\n",
    "\n",
    "In summary, this code sets up a simple web server using Express.js, serves an HTML form for BMI calculation, and handles form submissions to calculate and display the BMI. The server listens on port 3000 for incoming requests."
   ]
  },
  {
   "cell_type": "markdown",
   "metadata": {},
   "source": [
    "## **Explicacion del codigo**"
   ]
  },
  {
   "cell_type": "markdown",
   "metadata": {},
   "source": [
    "¡Claro! Este código está escrito en JavaScript y utiliza el marco de Express.js para crear un servidor web simple que calcula el Índice de Masa Corporal (IMC) de un usuario en función de los datos ingresados en un formulario. Veamos el código paso a paso:\n",
    "\n",
    "1. Importar los módulos necesarios:\n",
    "   ```javascript\n",
    "   const express = require('express');\n",
    "   const bodyParser = require('body-parser');\n",
    "   const path = require('path');\n",
    "   ```\n",
    "   - `express`: Esta línea importa el marco Express.js, que se utiliza para crear y gestionar el servidor web.\n",
    "   - `body-parser`: Es un middleware para Express que ayuda a analizar datos de solicitudes HTTP entrantes, en particular datos de formularios.\n",
    "   - `path`: Este módulo proporciona utilidades para trabajar con rutas de archivos y directorios.\n",
    "\n",
    "2. Crear una aplicación Express:\n",
    "   ```javascript\n",
    "   const app = express();\n",
    "   const port = 3000;\n",
    "   ```\n",
    "   - `app`: Esta variable es una instancia de la aplicación Express, que te permite configurar rutas, middleware y manejar solicitudes HTTP.\n",
    "   - `port`: Especifica el número de puerto (3000) en el que el servidor escuchará las solicitudes entrantes.\n",
    "\n",
    "3. Configurar Body Parser:\n",
    "   ```javascript\n",
    "   app.use(bodyParser.urlencoded({ extended: false }));\n",
    "   ```\n",
    "   Esta línea configura el middleware `body-parser` para analizar datos de formularios enviados en solicitudes HTTP POST. Hace que los datos analizados estén disponibles en `req.body` para su uso posterior.\n",
    "\n",
    "4. Definir una ruta para servir la página HTML de inicio:\n",
    "   ```javascript\n",
    "   app.get('/', (req, res) => {\n",
    "     res.sendFile(path.join(__dirname, 'index.html'));\n",
    "   });\n",
    "   ```\n",
    "   - `app.get('/')`: Esto configura una ruta para la URL raíz ('/') de la aplicación web.\n",
    "   - `(req, res)`: Estos son los objetos de solicitud y respuesta que se pasan al manejador de rutas. `req` representa la solicitud entrante y `res` se utiliza para enviar la respuesta.\n",
    "   - `res.sendFile(...)`: Esta línea envía el archivo `index.html` como respuesta cuando alguien accede a la URL raíz.\n",
    "\n",
    "5. Crear una ruta para manejar el envío del formulario:\n",
    "   ```javascript\n",
    "   app.post('/calculate-bmi', (req, res) => {\n",
    "     // ...\n",
    "   });\n",
    "   ```\n",
    "   - `app.post('/calculate-bmi')`: Esto configura una ruta para manejar solicitudes HTTP POST a la URL '/calculate-bmi'.\n",
    "   - `(req, res)`: Son los objetos de solicitud y respuesta, como se mencionó anteriormente.\n",
    "\n",
    "6. Manejar los datos del formulario y calcular el IMC:\n",
    "   ```javascript\n",
    "   const weight = parseFloat(req.body.weight);\n",
    "   const height = parseFloat(req.body.height);\n",
    "   \n",
    "   if (isNaN(weight) || isNaN(height)) {\n",
    "     res.send('Por favor, ingrese un peso y una altura válidos.');\n",
    "   } else {\n",
    "     const bmi = (weight / (height ** 2)) * 10000;\n",
    "     res.send(`Tu IMC es: ${bmi.toFixed(2)}`);\n",
    "   }\n",
    "   ```\n",
    "   - Estas líneas extraen los valores 'weight' y 'height' de los datos del formulario enviados en la solicitud POST.\n",
    "   - Comprueba si el peso y la altura son números válidos. Si no lo son, responde con un mensaje de error.\n",
    "   - Si los datos son válidos, calcula el IMC utilizando la fórmula y envía el resultado como respuesta.\n",
    "\n",
    "7. Iniciar el servidor Express:\n",
    "   ```javascript\n",
    "   app.listen(port, () => {\n",
    "     console.log(`Servidor Express escuchando en el puerto ${port}`);\n",
    "   });\n",
    "   ```\n",
    "   - Este código inicia el servidor Express y lo hace escuchar en el puerto 3000. También registra un mensaje en la consola para indicar que el servidor está en funcionamiento.\n",
    "\n",
    "En resumen, este código configura un servidor web simple utilizando Express.js, sirve un formulario HTML para el cálculo del IMC y maneja las presentaciones de formularios para calcular y mostrar el IMC. El servidor escucha en el puerto 3000 para las solicitudes entrantes."
   ]
  },
  {
   "cell_type": "markdown",
   "metadata": {},
   "source": [
    "## **HTML Page for BMI Calculation**\n",
    "\n",
    "The HTML page for BMI calculation is a simple form that accepts the user's weight and height and submits the data to the server for calculation. It also displays the calculated BMI to the user.\n",
    "\n",
    "```html\n",
    "<!DOCTYPE html>\n",
    "<html lang=\"en\">\n",
    "<head>\n",
    "    <meta charset=\"UTF-8\">\n",
    "    <title>BMI Calculator</title>\n",
    "    <link rel=\"stylesheet\" href=\"main.css\">\n",
    "</head>\n",
    "<body>\n",
    "    <h1>BMI Calculator</h1>\n",
    "    <div class=\"container\">\n",
    "        \n",
    "    <form action=\"/calculate-bmi\" method=\"POST\">\n",
    "        <label for=\"name\">Name</label>\n",
    "        <input type=\"text\" name=\"name\" id=\"name\"\n",
    "        placeholder=\"Enter your name\" required>\n",
    "        <label for=\"weight\">Weight (kg)</label>\n",
    "        <input type=\"text\" name=\"weight\" id=\"weight\" \n",
    "        placeholder=\"Enter your weight in kilograms\" required>\n",
    "        <label for=\"height\">Height (cm)</label>\n",
    "        <input type=\"text\" name=\"height\" id=\"height\" \n",
    "        placeholder=\"Enter your height in centimeters\" required>\n",
    "        <button type=\"submit\">Calculate BMI</button>\n",
    "    </form>\n",
    "    </div>\n",
    "</body>\n",
    "</html>\n",
    "```"
   ]
  },
  {
   "cell_type": "markdown",
   "metadata": {
    "ExecuteTime": {
     "end_time": "2023-10-23T19:49:51.596993Z",
     "start_time": "2023-10-23T19:49:51.569994Z"
    }
   },
   "source": [
    "<!-- <!DOCTYPE html>\n",
    "<html lang=\"en\">\n",
    "<head>\n",
    "    <meta charset=\"UTF-8\">\n",
    "    <title>BMI Calculator</title>\n",
    "    <link rel=\"stylesheet\" href=\"main.css\">\n",
    "</head> -->\n",
    "<!-- <body> -->\n",
    "<h1>BMI Calculator</h1>\n",
    "<div class=\"container\">\n",
    "\n",
    "<form action=\"/calculate-bmi\" method=\"POST\">\n",
    "    <label for=\"name\">Name</label>\n",
    "    <input type=\"text\" name=\"name\" id=\"name\"\n",
    "    placeholder=\"Enter your name\" required>\n",
    "    <label for=\"weight\">Weight (kg)</label>\n",
    "    <input type=\"text\" name=\"weight\" id=\"weight\" \n",
    "    placeholder=\"Enter your weight in kilograms\" required>\n",
    "    <label for=\"height\">Height (cm)</label>\n",
    "    <input type=\"text\" name=\"height\" id=\"height\" \n",
    "    placeholder=\"Enter your height in centimeters\" required>\n",
    "    <button type=\"submit\">Calculate BMI</button>\n",
    "</form>\n",
    "</div>\n",
    "<!-- </body> -->\n",
    "<!-- </html> -->\n",
    "<style>\n",
    "body {\n",
    "font-family: Arial, sans-serif;\n",
    "text-align: center;\n",
    "/* background: linear-gradient(45deg, #0000,#0fa4ce, #dada0a); */\n",
    "margin: 0;\n",
    "padding: 0;\n",
    "align-items: center;\n",
    "justify-content: center;\n",
    "}\n",
    "/* Estilo para el encabezado principal */\n",
    "h1 {\n",
    "color: #f2ecec;\n",
    "background-color: #061148;\n",
    "padding: 20px;\n",
    "margin: 0;\n",
    "font-family: 'Elephant', Times, serif;\n",
    "font-size: 42px;\n",
    "text-align: center;\n",
    "}\n",
    ".container{\n",
    "display: flex;\n",
    "align-items: center;\n",
    "justify-content: center;\n",
    "}\n",
    "/* Estilo para el formulario */\n",
    "form {\n",
    "background-color:#5074c1a7;\n",
    "padding: 20px;\n",
    "border-radius: 8px;\n",
    "box-shadow: 0 2px 4px rgba(0, 0, 0, 0.2);\n",
    "margin: 20px;\n",
    "align-items: center;\n",
    "justify-content: center;\n",
    "width: 50%;\n",
    "}\n",
    "/* Estilo para etiquetas de entrada */\n",
    "label {\n",
    "display: block;\n",
    "color: #f2ecec;\n",
    "margin-bottom: 8px;\n",
    "font-size: 24px;\n",
    "font-weight: bold;\n",
    "}\n",
    "/* Estilo para campos de entrada de texto */\n",
    "input[type=\"text\"] {\n",
    "width: 100%;\n",
    "padding: 10px 0px;\n",
    "font-size: 21px;\n",
    "font-weight: bold;\n",
    "margin: 10px 0 22px 0;\n",
    "border: 1px solid #ccc;\n",
    "border-radius: 4px;\n",
    "box-sizing: border-box;\n",
    "text-align: center;\n",
    "}\n",
    "/* Estilo para el botón de enviar */\n",
    "button[type=\"submit\"] {\n",
    "background-color: #4CAF50;\n",
    "color: #fff;\n",
    "padding: 10px 20px;\n",
    "border: none;\n",
    "border-radius: 4px;\n",
    "cursor: pointer;\n",
    "font-size: 16px;\n",
    "margin-top: 10px;\n",
    "}\n",
    "/* Estilo para el botón de enviar cuando se pasa el cursor por encima */\n",
    "button[type=\"submit\"]:hover {\n",
    "background-color: #4551a0;\n",
    "scale: 1.2;\n",
    "transition: 0.5s;\n",
    "}\n",
    "/* Estilo para mensajes de error */\n",
    ".error-message {\n",
    "color: #d9534f;\n",
    "margin-top: 10px;\n",
    "}\n",
    "/* Estilo para mensajes de éxito */\n",
    ".success-message {\n",
    "color: #5bc0de;\n",
    "margin-top: 10px;\n",
    "}\n",
    "</style>"
   ]
  },
  {
   "cell_type": "markdown",
   "metadata": {},
   "source": [
    "## **Acces to the app to run it**\n",
    "\n",
    "```bash\n",
    "path= \"cd Documents/DS Chuy/DS_Santiago\""
   ]
  },
  {
   "cell_type": "code",
   "execution_count": 6,
   "metadata": {},
   "outputs": [
    {
     "name": "stdout",
     "output_type": "stream",
     "text": [
      "^C\n",
      "Servidor Express escuchando en el puerto 3000\n",
      "Server running on port 3001\n"
     ]
    }
   ],
   "source": [
    "!node main.js"
   ]
  },
  {
   "cell_type": "markdown",
   "metadata": {},
   "source": [
    "## Check if the server is running\n",
    "\n",
    "To check if the server is running, go to the next url in your browser\n",
    "\n",
    "```bash\n",
    "http://localhost:3000/\n",
    "```"
   ]
  },
  {
   "cell_type": "markdown",
   "metadata": {},
   "source": [
    "## **Terminate the server**\n",
    "\n",
    "El comando `lsof` es una herramienta que generalmente se encuentra en sistemas tipo Unix/Linux. Si estás utilizando Windows, `lsof` no estará disponible en el símbolo del sistema (cmd.exe) de forma predeterminada. Sin embargo, puedes utilizar una alternativa en Windows para lograr el mismo resultado:\n",
    "\n",
    "1. Abre una terminal de Windows como administrador.\n",
    "\n",
    "2. Ejecuta el siguiente comando para encontrar el PID del proceso que utiliza un puerto específico. Asegúrate de reemplazar `<PORT>` con el número del puerto que deseas detener:\n",
    "\n",
    "   ```powershell\n",
    "   netstat -ano | findstr \"<PORT>\"\n",
    "   ```\n",
    "\n",
    "   Por ejemplo, si tu servidor Express está escuchando en el puerto 3000:\n",
    "\n",
    "   ```powershell\n",
    "   netstat -ano | findstr \"3000\"\n",
    "   ```\n",
    "\n",
    "   Esto mostrará una lista de conexiones en el puerto especificado y el número de identificación del proceso (PID) en la última columna.\n",
    "\n",
    "3. Anota el PID del proceso que deseas detener.\n",
    "\n",
    "4. Para detener el proceso, ejecuta el siguiente comando, donde `<PID>` es el número de identificación del proceso que deseas detener:\n",
    "\n",
    "   ```powershell\n",
    "   taskkill /F /PID <PID>\n",
    "   ```\n",
    "\n",
    "   Por ejemplo:\n",
    "\n",
    "   ```powershell\n",
    "   taskkill /F /PID 12345\n",
    "   ```\n",
    "\n",
    "   El parámetro `/F` se utiliza para forzar la terminación del proceso.\n",
    "\n",
    "Después de ejecutar estos comandos en Windows, el proceso que estaba utilizando el puerto especificado se detendrá. Asegúrate de estar deteniendo el proceso correcto y ten cuidado al forzar la terminación del proceso con `/F`."
   ]
  },
  {
   "cell_type": "code",
   "execution_count": null,
   "metadata": {},
   "outputs": [],
   "source": []
  },
  {
   "cell_type": "markdown",
   "metadata": {},
   "source": [
    "## **Iniciar el servidor desde una terminal de Jupyter**\n",
    "\n",
    "```bash\n",
    "cd \"DS Chuy/DS_Santiago/Nodejs/Basic Express Server\"\n",
    "```\n"
   ]
  },
  {
   "cell_type": "markdown",
   "metadata": {},
   "source": [
    "Erase una vez que "
   ]
  }
 ],
 "metadata": {
  "kernelspec": {
   "display_name": "Python 3 (ipykernel)",
   "language": "python",
   "name": "python3"
  },
  "language_info": {
   "codemirror_mode": {
    "name": "ipython",
    "version": 3
   },
   "file_extension": ".py",
   "mimetype": "text/x-python",
   "name": "python",
   "nbconvert_exporter": "python",
   "pygments_lexer": "ipython3",
   "version": "3.10.11"
  },
  "toc": {
   "base_numbering": 1,
   "nav_menu": {},
   "number_sections": false,
   "sideBar": false,
   "skip_h1_title": true,
   "title_cell": "Table of Contents",
   "title_sidebar": "Contents",
   "toc_cell": true,
   "toc_position": {},
   "toc_section_display": true,
   "toc_window_display": false
  },
  "varInspector": {
   "cols": {
    "lenName": 16,
    "lenType": 16,
    "lenVar": 40
   },
   "kernels_config": {
    "python": {
     "delete_cmd_postfix": "",
     "delete_cmd_prefix": "del ",
     "library": "var_list.py",
     "varRefreshCmd": "print(var_dic_list())"
    },
    "r": {
     "delete_cmd_postfix": ") ",
     "delete_cmd_prefix": "rm(",
     "library": "var_list.r",
     "varRefreshCmd": "cat(var_dic_list()) "
    }
   },
   "types_to_exclude": [
    "module",
    "function",
    "builtin_function_or_method",
    "instance",
    "_Feature"
   ],
   "window_display": false
  }
 },
 "nbformat": 4,
 "nbformat_minor": 2
}
